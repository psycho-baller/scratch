{
  "cells": [
    {
      "cell_type": "code",
      "execution_count": 2,
      "id": "fc691ca8",
      "metadata": {},
      "outputs": [
        {
          "name": "stdout",
          "output_type": "stream",
          "text": [
            "Requirement already satisfied: llama-index in /Users/rami-ibm/miniconda3/envs/venvini/lib/python3.12/site-packages (0.9.16)\n",
            "Requirement already satisfied: google-generativeai>=0.3.0 in /Users/rami-ibm/miniconda3/envs/venvini/lib/python3.12/site-packages (0.3.1)\n",
            "Requirement already satisfied: matplotlib in /Users/rami-ibm/miniconda3/envs/venvini/lib/python3.12/site-packages (3.8.2)\n",
            "Requirement already satisfied: qdrant_client in /Users/rami-ibm/miniconda3/envs/venvini/lib/python3.12/site-packages (1.7.0)\n",
            "Collecting PyPDF2\n",
            "  Downloading pypdf2-3.0.1-py3-none-any.whl (232 kB)\n",
            "\u001b[2K     \u001b[90m━━━━━━━━━━━━━━━━━━━━━━━━━━━━━━━━━━━━━\u001b[0m \u001b[32m232.6/232.6 kB\u001b[0m \u001b[31m733.2 kB/s\u001b[0m eta \u001b[36m0:00:00\u001b[0ma \u001b[36m0:00:01\u001b[0m\n",
            "\u001b[?25hRequirement already satisfied: SQLAlchemy>=1.4.49 in /Users/rami-ibm/miniconda3/envs/venvini/lib/python3.12/site-packages (from SQLAlchemy[asyncio]>=1.4.49->llama-index) (2.0.23)\n",
            "Requirement already satisfied: aiohttp<4.0.0,>=3.8.6 in /Users/rami-ibm/miniconda3/envs/venvini/lib/python3.12/site-packages (from llama-index) (3.9.1)\n",
            "Requirement already satisfied: beautifulsoup4<5.0.0,>=4.12.2 in /Users/rami-ibm/miniconda3/envs/venvini/lib/python3.12/site-packages (from llama-index) (4.12.2)\n",
            "Requirement already satisfied: dataclasses-json in /Users/rami-ibm/miniconda3/envs/venvini/lib/python3.12/site-packages (from llama-index) (0.6.3)\n",
            "Requirement already satisfied: deprecated>=1.2.9.3 in /Users/rami-ibm/miniconda3/envs/venvini/lib/python3.12/site-packages (from llama-index) (1.2.14)\n",
            "Requirement already satisfied: fsspec>=2023.5.0 in /Users/rami-ibm/miniconda3/envs/venvini/lib/python3.12/site-packages (from llama-index) (2023.12.2)\n",
            "Requirement already satisfied: httpx in /Users/rami-ibm/miniconda3/envs/venvini/lib/python3.12/site-packages (from llama-index) (0.25.2)\n",
            "Requirement already satisfied: nest-asyncio<2.0.0,>=1.5.8 in /Users/rami-ibm/miniconda3/envs/venvini/lib/python3.12/site-packages (from llama-index) (1.5.8)\n",
            "Requirement already satisfied: nltk<4.0.0,>=3.8.1 in /Users/rami-ibm/miniconda3/envs/venvini/lib/python3.12/site-packages (from llama-index) (3.8.1)\n",
            "Requirement already satisfied: numpy in /Users/rami-ibm/miniconda3/envs/venvini/lib/python3.12/site-packages (from llama-index) (1.26.2)\n",
            "Requirement already satisfied: openai>=1.1.0 in /Users/rami-ibm/miniconda3/envs/venvini/lib/python3.12/site-packages (from llama-index) (1.5.0)\n",
            "Requirement already satisfied: pandas in /Users/rami-ibm/miniconda3/envs/venvini/lib/python3.12/site-packages (from llama-index) (2.1.4)\n",
            "Requirement already satisfied: requests>=2.31.0 in /Users/rami-ibm/miniconda3/envs/venvini/lib/python3.12/site-packages (from llama-index) (2.31.0)\n",
            "Requirement already satisfied: tenacity<9.0.0,>=8.2.0 in /Users/rami-ibm/miniconda3/envs/venvini/lib/python3.12/site-packages (from llama-index) (8.2.3)\n",
            "Requirement already satisfied: tiktoken>=0.3.3 in /Users/rami-ibm/miniconda3/envs/venvini/lib/python3.12/site-packages (from llama-index) (0.5.2)\n",
            "Requirement already satisfied: types-protobuf<5.0.0.0,>=4.24.0.4 in /Users/rami-ibm/miniconda3/envs/venvini/lib/python3.12/site-packages (from llama-index) (4.24.0.4)\n",
            "Requirement already satisfied: typing-extensions>=4.5.0 in /Users/rami-ibm/miniconda3/envs/venvini/lib/python3.12/site-packages (from llama-index) (4.9.0)\n",
            "Requirement already satisfied: typing-inspect>=0.8.0 in /Users/rami-ibm/miniconda3/envs/venvini/lib/python3.12/site-packages (from llama-index) (0.9.0)\n",
            "Requirement already satisfied: google-ai-generativelanguage==0.4.0 in /Users/rami-ibm/miniconda3/envs/venvini/lib/python3.12/site-packages (from google-generativeai>=0.3.0) (0.4.0)\n",
            "Requirement already satisfied: google-auth in /Users/rami-ibm/miniconda3/envs/venvini/lib/python3.12/site-packages (from google-generativeai>=0.3.0) (2.25.2)\n",
            "Requirement already satisfied: google-api-core in /Users/rami-ibm/miniconda3/envs/venvini/lib/python3.12/site-packages (from google-generativeai>=0.3.0) (2.15.0)\n",
            "Requirement already satisfied: protobuf in /Users/rami-ibm/miniconda3/envs/venvini/lib/python3.12/site-packages (from google-generativeai>=0.3.0) (4.25.1)\n",
            "Requirement already satisfied: tqdm in /Users/rami-ibm/miniconda3/envs/venvini/lib/python3.12/site-packages (from google-generativeai>=0.3.0) (4.66.1)\n",
            "Requirement already satisfied: proto-plus<2.0.0dev,>=1.22.3 in /Users/rami-ibm/miniconda3/envs/venvini/lib/python3.12/site-packages (from google-ai-generativelanguage==0.4.0->google-generativeai>=0.3.0) (1.23.0)\n",
            "Requirement already satisfied: contourpy>=1.0.1 in /Users/rami-ibm/miniconda3/envs/venvini/lib/python3.12/site-packages (from matplotlib) (1.2.0)\n",
            "Requirement already satisfied: cycler>=0.10 in /Users/rami-ibm/miniconda3/envs/venvini/lib/python3.12/site-packages (from matplotlib) (0.12.1)\n",
            "Requirement already satisfied: fonttools>=4.22.0 in /Users/rami-ibm/miniconda3/envs/venvini/lib/python3.12/site-packages (from matplotlib) (4.46.0)\n",
            "Requirement already satisfied: kiwisolver>=1.3.1 in /Users/rami-ibm/miniconda3/envs/venvini/lib/python3.12/site-packages (from matplotlib) (1.4.5)\n",
            "Requirement already satisfied: packaging>=20.0 in /Users/rami-ibm/miniconda3/envs/venvini/lib/python3.12/site-packages (from matplotlib) (23.2)\n",
            "Requirement already satisfied: pillow>=8 in /Users/rami-ibm/miniconda3/envs/venvini/lib/python3.12/site-packages (from matplotlib) (10.1.0)\n",
            "Requirement already satisfied: pyparsing>=2.3.1 in /Users/rami-ibm/miniconda3/envs/venvini/lib/python3.12/site-packages (from matplotlib) (3.1.1)\n",
            "Requirement already satisfied: python-dateutil>=2.7 in /Users/rami-ibm/miniconda3/envs/venvini/lib/python3.12/site-packages (from matplotlib) (2.8.2)\n",
            "Requirement already satisfied: grpcio>=1.41.0 in /Users/rami-ibm/miniconda3/envs/venvini/lib/python3.12/site-packages (from qdrant_client) (1.60.0)\n",
            "Requirement already satisfied: grpcio-tools>=1.41.0 in /Users/rami-ibm/miniconda3/envs/venvini/lib/python3.12/site-packages (from qdrant_client) (1.60.0)\n",
            "Requirement already satisfied: portalocker<3.0.0,>=2.7.0 in /Users/rami-ibm/miniconda3/envs/venvini/lib/python3.12/site-packages (from qdrant_client) (2.8.2)\n",
            "Requirement already satisfied: pydantic>=1.10.8 in /Users/rami-ibm/miniconda3/envs/venvini/lib/python3.12/site-packages (from qdrant_client) (2.5.2)\n",
            "Requirement already satisfied: urllib3<2.0.0,>=1.26.14 in /Users/rami-ibm/miniconda3/envs/venvini/lib/python3.12/site-packages (from qdrant_client) (1.26.18)\n",
            "Requirement already satisfied: attrs>=17.3.0 in /Users/rami-ibm/miniconda3/envs/venvini/lib/python3.12/site-packages (from aiohttp<4.0.0,>=3.8.6->llama-index) (23.1.0)\n",
            "Requirement already satisfied: multidict<7.0,>=4.5 in /Users/rami-ibm/miniconda3/envs/venvini/lib/python3.12/site-packages (from aiohttp<4.0.0,>=3.8.6->llama-index) (6.0.4)\n",
            "Requirement already satisfied: yarl<2.0,>=1.0 in /Users/rami-ibm/miniconda3/envs/venvini/lib/python3.12/site-packages (from aiohttp<4.0.0,>=3.8.6->llama-index) (1.9.4)\n",
            "Requirement already satisfied: frozenlist>=1.1.1 in /Users/rami-ibm/miniconda3/envs/venvini/lib/python3.12/site-packages (from aiohttp<4.0.0,>=3.8.6->llama-index) (1.4.1)\n",
            "Requirement already satisfied: aiosignal>=1.1.2 in /Users/rami-ibm/miniconda3/envs/venvini/lib/python3.12/site-packages (from aiohttp<4.0.0,>=3.8.6->llama-index) (1.3.1)\n",
            "Requirement already satisfied: soupsieve>1.2 in /Users/rami-ibm/miniconda3/envs/venvini/lib/python3.12/site-packages (from beautifulsoup4<5.0.0,>=4.12.2->llama-index) (2.5)\n",
            "Requirement already satisfied: wrapt<2,>=1.10 in /Users/rami-ibm/miniconda3/envs/venvini/lib/python3.12/site-packages (from deprecated>=1.2.9.3->llama-index) (1.16.0)\n",
            "Requirement already satisfied: googleapis-common-protos<2.0.dev0,>=1.56.2 in /Users/rami-ibm/miniconda3/envs/venvini/lib/python3.12/site-packages (from google-api-core->google-generativeai>=0.3.0) (1.62.0)\n",
            "Requirement already satisfied: cachetools<6.0,>=2.0.0 in /Users/rami-ibm/miniconda3/envs/venvini/lib/python3.12/site-packages (from google-auth->google-generativeai>=0.3.0) (5.3.2)\n",
            "Requirement already satisfied: pyasn1-modules>=0.2.1 in /Users/rami-ibm/miniconda3/envs/venvini/lib/python3.12/site-packages (from google-auth->google-generativeai>=0.3.0) (0.3.0)\n",
            "Requirement already satisfied: rsa<5,>=3.1.4 in /Users/rami-ibm/miniconda3/envs/venvini/lib/python3.12/site-packages (from google-auth->google-generativeai>=0.3.0) (4.9)\n",
            "Requirement already satisfied: setuptools in /Users/rami-ibm/miniconda3/envs/venvini/lib/python3.12/site-packages (from grpcio-tools>=1.41.0->qdrant_client) (68.2.2)\n",
            "Requirement already satisfied: anyio in /Users/rami-ibm/miniconda3/envs/venvini/lib/python3.12/site-packages (from httpx->llama-index) (4.2.0)\n",
            "Requirement already satisfied: certifi in /Users/rami-ibm/miniconda3/envs/venvini/lib/python3.12/site-packages (from httpx->llama-index) (2023.11.17)\n",
            "Requirement already satisfied: httpcore==1.* in /Users/rami-ibm/miniconda3/envs/venvini/lib/python3.12/site-packages (from httpx->llama-index) (1.0.2)\n",
            "Requirement already satisfied: idna in /Users/rami-ibm/miniconda3/envs/venvini/lib/python3.12/site-packages (from httpx->llama-index) (3.6)\n",
            "Requirement already satisfied: sniffio in /Users/rami-ibm/miniconda3/envs/venvini/lib/python3.12/site-packages (from httpx->llama-index) (1.3.0)\n",
            "Requirement already satisfied: h11<0.15,>=0.13 in /Users/rami-ibm/miniconda3/envs/venvini/lib/python3.12/site-packages (from httpcore==1.*->httpx->llama-index) (0.14.0)\n",
            "Requirement already satisfied: h2<5,>=3 in /Users/rami-ibm/miniconda3/envs/venvini/lib/python3.12/site-packages (from httpx[http2]>=0.14.0->qdrant_client) (4.1.0)\n",
            "Requirement already satisfied: click in /Users/rami-ibm/miniconda3/envs/venvini/lib/python3.12/site-packages (from nltk<4.0.0,>=3.8.1->llama-index) (8.1.7)\n",
            "Requirement already satisfied: joblib in /Users/rami-ibm/miniconda3/envs/venvini/lib/python3.12/site-packages (from nltk<4.0.0,>=3.8.1->llama-index) (1.3.2)\n",
            "Requirement already satisfied: regex>=2021.8.3 in /Users/rami-ibm/miniconda3/envs/venvini/lib/python3.12/site-packages (from nltk<4.0.0,>=3.8.1->llama-index) (2023.10.3)\n",
            "Requirement already satisfied: distro<2,>=1.7.0 in /Users/rami-ibm/miniconda3/envs/venvini/lib/python3.12/site-packages (from openai>=1.1.0->llama-index) (1.8.0)\n",
            "Requirement already satisfied: annotated-types>=0.4.0 in /Users/rami-ibm/miniconda3/envs/venvini/lib/python3.12/site-packages (from pydantic>=1.10.8->qdrant_client) (0.6.0)\n",
            "Requirement already satisfied: pydantic-core==2.14.5 in /Users/rami-ibm/miniconda3/envs/venvini/lib/python3.12/site-packages (from pydantic>=1.10.8->qdrant_client) (2.14.5)\n",
            "Requirement already satisfied: six>=1.5 in /Users/rami-ibm/miniconda3/envs/venvini/lib/python3.12/site-packages (from python-dateutil>=2.7->matplotlib) (1.16.0)\n",
            "Requirement already satisfied: charset-normalizer<4,>=2 in /Users/rami-ibm/miniconda3/envs/venvini/lib/python3.12/site-packages (from requests>=2.31.0->llama-index) (3.3.2)\n",
            "Requirement already satisfied: greenlet!=0.4.17 in /Users/rami-ibm/miniconda3/envs/venvini/lib/python3.12/site-packages (from SQLAlchemy[asyncio]>=1.4.49->llama-index) (3.0.2)\n",
            "Requirement already satisfied: mypy-extensions>=0.3.0 in /Users/rami-ibm/miniconda3/envs/venvini/lib/python3.12/site-packages (from typing-inspect>=0.8.0->llama-index) (1.0.0)\n",
            "Requirement already satisfied: marshmallow<4.0.0,>=3.18.0 in /Users/rami-ibm/miniconda3/envs/venvini/lib/python3.12/site-packages (from dataclasses-json->llama-index) (3.20.1)\n",
            "Requirement already satisfied: pytz>=2020.1 in /Users/rami-ibm/miniconda3/envs/venvini/lib/python3.12/site-packages (from pandas->llama-index) (2023.3.post1)\n",
            "Requirement already satisfied: tzdata>=2022.1 in /Users/rami-ibm/miniconda3/envs/venvini/lib/python3.12/site-packages (from pandas->llama-index) (2023.3)\n",
            "Requirement already satisfied: grpcio-status<2.0.dev0,>=1.33.2 in /Users/rami-ibm/miniconda3/envs/venvini/lib/python3.12/site-packages (from google-api-core[grpc]!=2.0.*,!=2.1.*,!=2.10.*,!=2.2.*,!=2.3.*,!=2.4.*,!=2.5.*,!=2.6.*,!=2.7.*,!=2.8.*,!=2.9.*,<3.0.0dev,>=1.34.0->google-ai-generativelanguage==0.4.0->google-generativeai>=0.3.0) (1.60.0)\n",
            "Requirement already satisfied: hyperframe<7,>=6.0 in /Users/rami-ibm/miniconda3/envs/venvini/lib/python3.12/site-packages (from h2<5,>=3->httpx[http2]>=0.14.0->qdrant_client) (6.0.1)\n",
            "Requirement already satisfied: hpack<5,>=4.0 in /Users/rami-ibm/miniconda3/envs/venvini/lib/python3.12/site-packages (from h2<5,>=3->httpx[http2]>=0.14.0->qdrant_client) (4.0.0)\n",
            "Requirement already satisfied: pyasn1<0.6.0,>=0.4.6 in /Users/rami-ibm/miniconda3/envs/venvini/lib/python3.12/site-packages (from pyasn1-modules>=0.2.1->google-auth->google-generativeai>=0.3.0) (0.5.1)\n",
            "Installing collected packages: PyPDF2\n",
            "Successfully installed PyPDF2-3.0.1\n",
            "Note: you may need to restart the kernel to use updated packages.\n"
          ]
        }
      ],
      "source": [
        "%pip install llama-index 'google-generativeai>=0.3.0' matplotlib qdrant_client PyPDF2"
      ]
    },
    {
      "cell_type": "markdown",
      "id": "4479bf64",
      "metadata": {},
      "source": [
        "##  Use Gemini to understand Images from URLs"
      ]
    },
    {
      "cell_type": "code",
      "execution_count": 4,
      "metadata": {},
      "outputs": [],
      "source": [
        "import os\n",
        "\n",
        "GOOGLE_API_KEY = os.environ.get(\"GOOGLE_API_KEY\")"
      ]
    },
    {
      "cell_type": "code",
      "execution_count": 6,
      "metadata": {},
      "outputs": [],
      "source": [
        "import google.generativeai as genai\n",
        "\n",
        "genai.configure(\n",
        "    api_key=GOOGLE_API_KEY,\n",
        "    client_options={\"api_endpoint\": \"generativelanguage.googleapis.com\"},\n",
        ")"
      ]
    },
    {
      "cell_type": "markdown",
      "metadata": {},
      "source": [
        "## Read Restaurant Menu from pdf and store it in a Llama_index Document"
      ]
    },
    {
      "cell_type": "code",
      "execution_count": 22,
      "metadata": {},
      "outputs": [
        {
          "name": "stdout",
          "output_type": "stream",
          "text": [
            "Doc ID: ddf7ac6e-11fc-4445-b651-780aaee8d138\n",
            "Text: Denotes LongHorn  Steakhouse® Specialty.LongHorn Steakhouse®,\n",
            "LongHorn®, and all related trademarks, service marks, copyrights, and\n",
            "indicia are owned by RARE Hospitality Management, LLC.  ©2020 RARE\n",
            "Hospitality Management, LLC.  *Contains (or may contain) raw or\n",
            "undercooked ingredients. Consuming raw or undercooked meats, poultry,\n",
            "seafood, shell...\n"
          ]
        }
      ],
      "source": [
        "   from llama_index import Document\n",
        "   from PyPDF2 import PdfReader\n",
        "\n",
        "   # Extract text from PDF\n",
        "   with open(\"example-menu.pdf\", \"rb\") as file:\n",
        "       reader = PdfReader(file)\n",
        "       text = \"\"\n",
        "       for page in reader.pages:\n",
        "           text += page.extract_text()\n",
        "\n",
        "   # Create Document object\n",
        "   document = Document(text=text, metadata={\"source\": \"example-menu.pdf\"})\n",
        "   print(document)"
      ]
    },
    {
      "cell_type": "markdown",
      "metadata": {},
      "source": [
        "## Sore the Document in a qdrant Vector DB"
      ]
    },
    {
      "cell_type": "code",
      "execution_count": 23,
      "metadata": {},
      "outputs": [
        {
          "name": "stderr",
          "output_type": "stream",
          "text": [
            "Parsing nodes: 100%|██████████| 1/1 [00:00<00:00, 79.43it/s]\n",
            "Generating embeddings: 100%|██████████| 5/5 [00:04<00:00,  1.09it/s]\n"
          ]
        }
      ],
      "source": [
        "from llama_index import VectorStoreIndex, StorageContext, ServiceContext\n",
        "from llama_index.embeddings import GeminiEmbedding\n",
        "from llama_index.llms import Gemini\n",
        "from llama_index.vector_stores import QdrantVectorStore\n",
        "from llama_index import StorageContext\n",
        "import qdrant_client\n",
        "\n",
        "# Create a local Qdrant vector store\n",
        "client = qdrant_client.QdrantClient(path=\"vector_store\")\n",
        "\n",
        "vector_store = QdrantVectorStore(client=client, collection_name=\"collection\")\n",
        "\n",
        "# Using the embedding model to Gemini\n",
        "embed_model = GeminiEmbedding(\n",
        "    model_name=\"models/embedding-001\", api_key=GOOGLE_API_KEY\n",
        ")\n",
        "service_context = ServiceContext.from_defaults(\n",
        "    llm=Gemini(api_key=GOOGLE_API_KEY), embed_model=embed_model\n",
        ")\n",
        "storage_context = StorageContext.from_defaults(vector_store=vector_store)\n",
        "\n",
        "index = VectorStoreIndex.from_documents(\n",
        "    [document],\n",
        "    show_progress=True,\n",
        "    service_context=service_context,\n",
        "    storage_context=storage_context,\n",
        ")"
      ]
    },
    {
      "cell_type": "markdown",
      "metadata": {},
      "source": [
        "### Using Gemini to synthesize the results and respond to queries"
      ]
    },
    {
      "cell_type": "code",
      "execution_count": 27,
      "metadata": {},
      "outputs": [
        {
          "name": "stdout",
          "output_type": "stream",
          "text": [
            "- The restaurant offers a variety of steaks, including the Lean and hearty USDA Choice center-cut top sirloin, LongHorn® Steak Tips, Ribeye, New York Strip, and Fire-Grilled T-Bone.\n",
            "- All entrées are served with a choice of side and hand-chopped salad.\n",
            "- The restaurant also offers a variety of appetizers, including Seasoned Steakhouse Wings, Wild West Shrimp®, Spicy Chicken Bites, Texas Tonion®, White Cheddar Stuffed Mushrooms, and Firecracker Chicken Wraps.\n",
            "- The restaurant has a full bar and offers a variety of cocktails, including The Perfect Margarita, Strawberry Margarita, Mango Margarita, Don Julio Margarita, LongHorn® Old Fashioned, Tito’s Texas Tea, Mules, Moscow Mules, and Sangrias.\n"
          ]
        }
      ],
      "source": [
        "query_engine = index.as_query_engine(\n",
        "    # similarity_top_k=1,\n",
        ")\n",
        "\n",
        "response = query_engine.query(\n",
        "    \"What are some information you can tell me about the restaurant?\"\n",
        ")\n",
        "print(response)"
      ]
    }
  ],
  "metadata": {
    "colab": {
      "name": "gemini_multi_modal.ipynb",
      "toc_visible": true
    },
    "kernelspec": {
      "display_name": "Python 3",
      "name": "python3"
    },
    "language_info": {
      "codemirror_mode": {
        "name": "ipython",
        "version": 3
      },
      "file_extension": ".py",
      "mimetype": "text/x-python",
      "name": "python",
      "nbconvert_exporter": "python",
      "pygments_lexer": "ipython3",
      "version": "3.12.0"
    }
  },
  "nbformat": 4,
  "nbformat_minor": 0
}
